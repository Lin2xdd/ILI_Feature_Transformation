{
 "cells": [
  {
   "cell_type": "code",
   "execution_count": 1,
   "metadata": {
    "id": "YkPZIBPTxB8u"
   },
   "outputs": [],
   "source": [
    "import csv\n",
    "#import os\n",
    "import numpy\n",
    "import math\n",
    "import xlwt\n",
    "# import xlsxwriter\n",
    "import pandas as pd\n",
    "from numpy.linalg import inv\n",
    "import time\n",
    "import matplotlib.pyplot as plt"
   ]
  },
  {
   "cell_type": "markdown",
   "metadata": {
    "id": "Ai8S2B_TxB8x"
   },
   "source": [
    "### IMPORT DATA AS LIST"
   ]
  },
  {
   "cell_type": "markdown",
   "metadata": {
    "id": "Le2nAUbUxB8y"
   },
   "source": [
    "## FIXED VARIABLES"
   ]
  },
  {
   "cell_type": "code",
   "execution_count": 22,
   "metadata": {
    "id": "nE-WgG3oxB8z"
   },
   "outputs": [
    {
     "name": "stdout",
     "output_type": "stream",
     "text": [
      "22\n"
     ]
    }
   ],
   "source": [
    "#--------------- Fixed Variables------------------#\n",
    "annealingRate = 0.96 # Annealing rate\n",
    "alpha = 0.0001\n",
    "multiplier_lambda2 = 200 #lambda is beta in the paper\n",
    "# T_final = 100 # Final temperature to stop the annealing process\n",
    "# T_initial = 2.5\n",
    "    \n",
    "nX = len(move_data) # Number of features from ILI 1\n",
    "nY = len(fix_data) # Number of features from ILI 2\n",
    "d = 3 # Coordinate dimensions\n",
    "\n"
   ]
  },
  {
   "cell_type": "markdown",
   "metadata": {
    "id": "WJK3qqoLxB8z"
   },
   "source": [
    "## Function 1: Distance of All feature Pairs"
   ]
  },
  {
   "cell_type": "code",
   "execution_count": 9,
   "metadata": {
    "id": "pDrEYDyTxB80"
   },
   "outputs": [],
   "source": [
    "def Distance_Matrix (nX, nY, x, y):\n",
    "    distance = numpy.zeros((nX, nY))\n",
    "    for i in range(nX):\n",
    "        for j in range(nY):\n",
    "            distance[i][j] = math.sqrt(sum((numpy.subtract(x[i],y[j]))**2 ))\n",
    "    return distance"
   ]
  },
  {
   "cell_type": "markdown",
   "metadata": {
    "id": "08-9mDsexB80"
   },
   "source": [
    "## Function 2: P matrix calculation"
   ]
  },
  {
   "cell_type": "code",
   "execution_count": 10,
   "metadata": {
    "id": "hWQ97dWMxB81"
   },
   "outputs": [],
   "source": [
    "# P matrix calculation\n",
    "def DetermineCorrespondenceMatrix(nX, nY,  x, y, T, T_outlier, alpha):\n",
    "    # x = numpy.zeros((nX, d))\n",
    "    # y = numpy.zeros((nY, d))\n",
    "    p = numpy.zeros((nX+1, nY+1))\n",
    "    # distFeatPairs = numpy.zeros((nX, nY))\n",
    "    # outlierCenter = numpy.zeros(d)\n",
    "\n",
    "    # Normal assignment\n",
    "    distFeatPairs = Distance_Matrix(nX, nY,  x, y) # Distance of all feature pairs\n",
    "    p = numpy.exp((alpha - (distFeatPairs**2) )/ T - math.log( T ))\n",
    "\n",
    "    #  Outliers in x\n",
    "    outlierCenter_y = numpy.asarray(y).sum(axis=0) / nY\n",
    "    x_outlier_dist = []\n",
    "    for i in range(nX):\n",
    "        # j = nY\n",
    "        x_outlier_dist.append(sum( (x[i] - outlierCenter_y)**2 ))\n",
    "    x_outlier=numpy.exp(- numpy.array(x_outlier_dist) / T_outlier - math.log( T_outlier ))\n",
    "\n",
    "    p_with_xoutlier = numpy.c_[p,x_outlier]\n",
    "\n",
    "    # # Outliers in y\n",
    "    outlierCenter_x = numpy.asarray(x).sum(axis=0) / nX \n",
    "    y_outlier_dist = []\n",
    "    for j in range(nY):\n",
    "        # i = nX\n",
    "        y_outlier_dist.append(sum( (outlierCenter_x - y[j] )**2 ))\n",
    "    y_outlier = numpy.exp(- numpy.array(y_outlier_dist) / T_outlier - math.log( T_outlier ))\n",
    "    \n",
    "    y_outlier = numpy.append(y_outlier,0)\n",
    "\n",
    "    p_matrix = numpy.vstack((p_with_xoutlier,y_outlier))\n",
    "    return p_matrix\n"
   ]
  },
  {
   "cell_type": "markdown",
   "metadata": {
    "id": "OMxPGKSFxB82"
   },
   "source": [
    "## Function 3: Normalize P Matrix"
   ]
  },
  {
   "cell_type": "code",
   "execution_count": 11,
   "metadata": {
    "id": "fLDr_t3nxB82"
   },
   "outputs": [],
   "source": [
    "def Normalize_P(nX, nY, p_matrix):\n",
    "    threshold = 1e-04\n",
    "    # rowsum = numpy.zeros((nX))\n",
    "    # rowsum=numpy.array(rowsum)\n",
    "    # colsum = numpy.zeros((nY))\n",
    "    # colsum=numpy.array(colsum)\n",
    "    converged = False\n",
    "\n",
    "    while converged == False:       \n",
    "        # sum of columns and rows\n",
    "        colsum = numpy.sum(p_matrix[:,0:nY],axis=0)\n",
    "        # Initial normalize on columns\n",
    "        for j in range(nY):\n",
    "            if (colsum[j] > 0.0):\n",
    "                p_matrix[:,j] = p_matrix[:,j] / colsum[j]  ####Check shavad dimension[63,37]\n",
    "        # Initial Normalize on rows\n",
    "        rowsum = numpy.sum(p_matrix[0:nX,:],axis=1)\n",
    "        \n",
    "        for i in range(nX):\n",
    "            if (rowsum[i] > 0.0):\n",
    "                p_matrix[i,:]=p_matrix[i,:]/rowsum[i]\n",
    "\n",
    "        colsum2 = numpy.sum(p_matrix[:,0:nY],axis = 0 )\n",
    "        if (abs(colsum2-1)>threshold).any():\n",
    "            converged = False\n",
    "        else:\n",
    "            converged = True\n",
    "            p_matrix=p_matrix.round(2)\n",
    "            return p_matrix\n"
   ]
  },
  {
   "cell_type": "markdown",
   "metadata": {
    "id": "wkUAnbiNxB83"
   },
   "source": [
    "# Function 4: Determine Optimal Transformation"
   ]
  },
  {
   "cell_type": "code",
   "execution_count": null,
   "metadata": {},
   "outputs": [],
   "source": []
  },
  {
   "cell_type": "code",
   "execution_count": 12,
   "metadata": {
    "id": "mgBmVRlaxB83"
   },
   "outputs": [],
   "source": [
    "def DetermineOptimalTransformation(nX, nY, x, y, p, lambda2):\n",
    "    x_array = numpy.asarray(x)\n",
    "    y_array = numpy.asarray(y)\n",
    "    p_red = p[0:nX, 0:nY] # Reduced p-matrix\n",
    "    y1 = numpy.tile(y_array[:,0],(nX,1)) # 62*37:#(move_data)*#(fix_data), each column is the distance of fix_data\n",
    "    y2 = numpy.tile(y_array[:,1],(nX,1)) # 62*37:#(move_data)*#(fix_data), each column is the orientation of fix_data\n",
    "    #print(y1.shape)\n",
    "    x1 = numpy.transpose(numpy.tile(x_array[:,0],(nY,1))) # 62*37:#(move_data)*#(fix_data), each row is the distance of move_data\n",
    "    x2 = numpy.transpose(numpy.tile(x_array[:,1],(nY,1))) # 62*37:#(move_data)*#(fix_data), each row is the orientation of move_data\n",
    "\n",
    "    ## Affine\n",
    "    a_11 = numpy.sum(p_red*x1*x1)+lambda2 # element multiplication and summation\n",
    "    a_12 = numpy.sum(p_red*x1*x2)\n",
    "    a_13 = numpy.sum(p_red*x1)\n",
    "    a_21 = a_12\n",
    "    a_22 = numpy.sum(p_red*x2*x2)+lambda2\n",
    "    a_23 = numpy.sum(p_red*x2)\n",
    "    a_31 = a_13\n",
    "    a_32 = a_23\n",
    "    a_33 = numpy.sum(p)+lambda2\n",
    "\n",
    "    A = numpy.asarray([[a_11,a_12,a_13],[a_21,a_22,a_23],[a_31,a_32,a_33]]) #3*3, symmatric \n",
    "    \n",
    "    B1 = numpy.asarray([numpy.sum(p_red*y1*x1)+lambda2,numpy.sum(p_red*y1*x2),numpy.sum(p_red*y1)]) #(3,)\n",
    "    \n",
    "    B2 = numpy.asarray([numpy.sum(p_red*y2*x1),numpy.sum(p_red*y2*x2)+lambda2,numpy.sum(p_red*y2)]) #(3,)\n",
    "    \n",
    "    affine_1 = numpy.dot(inv(A),B1) #matrix multiplication\n",
    "    affine_2 = numpy.dot(inv(A),B2)\n",
    "    affine_3 = numpy.asarray([0,0,1])\n",
    "\n",
    "    affine = numpy.asarray([affine_1,affine_2,affine_3])\n",
    "    #print(affine.shape)\n",
    "    #print(affine)\n",
    "\n",
    "    ## Determine the Energy function\n",
    "    x = numpy.transpose(numpy.c_[x,numpy.ones(nX)])\n",
    "    x_trans = numpy.transpose(numpy.matmul(affine,x))\n",
    "    #print(x_trans.shape)\n",
    "    x_trans = x_trans[:,0:1]\n",
    "    #print(x_trans.shape)\n",
    "    distFeatPairs = Distance_Matrix(nX,nY,x_trans,y)\n",
    "    E = numpy.sum(p_red*distFeatPairs*distFeatPairs)\n",
    "\n",
    "    return affine,E\n",
    "  "
   ]
  },
  {
   "cell_type": "markdown",
   "metadata": {
    "id": "te86jYP1xB84"
   },
   "source": [
    "## Main process"
   ]
  },
  {
   "cell_type": "code",
   "execution_count": 23,
   "metadata": {
    "colab": {
     "base_uri": "https://localhost:8080/"
    },
    "id": "u98Yv_hWxB84",
    "outputId": "df8238a3-544b-431a-8cf5-1c6ec6dd040e"
   },
   "outputs": [
    {
     "name": "stdout",
     "output_type": "stream",
     "text": [
      "(22, 20)\n",
      "1\n",
      "[[0.96882849 0.38909491 0.11671775]\n",
      " [0.03639615 0.34352664 0.01774002]\n",
      " [0.         0.         1.        ]]\n",
      "(22, 20)\n",
      "2\n",
      "[[0.97209256 0.33279673 0.10992545]\n",
      " [0.03617076 0.34777473 0.01761163]\n",
      " [0.         0.         1.        ]]\n",
      "(22, 20)\n",
      "3\n",
      "[[0.97492456 0.2924679  0.10438367]\n",
      " [0.03596676 0.35178524 0.01766658]\n",
      " [0.         0.         1.        ]]\n",
      "(22, 20)\n",
      "4\n",
      "[[0.9775026  0.25533232 0.09703765]\n",
      " [0.03587885 0.35300389 0.01744768]\n",
      " [0.         0.         1.        ]]\n",
      "(22, 20)\n",
      "5\n",
      "[[0.98287437 0.17249876 0.09017631]\n",
      " [0.03526524 0.36537256 0.01721261]\n",
      " [0.         0.         1.        ]]\n",
      "(22, 20)\n",
      "6\n",
      "[[0.98382921 0.15718766 0.08787066]\n",
      " [0.03524999 0.36600326 0.01709796]\n",
      " [0.         0.         1.        ]]\n",
      "(22, 20)\n",
      "7\n",
      "[[0.9911159  0.02802689 0.0811991 ]\n",
      " [0.03537238 0.36514292 0.01671491]\n",
      " [0.         0.         1.        ]]\n",
      "(22, 20)\n",
      "8\n",
      "[[0.99302907 0.0074881  0.07818823]\n",
      " [0.03531502 0.36646947 0.01688173]\n",
      " [0.         0.         1.        ]]\n",
      "(22, 20)\n",
      "9\n",
      "[[ 0.99974209 -0.10614591  0.07509974]\n",
      " [ 0.03558742  0.36280903  0.0167163 ]\n",
      " [ 0.          0.          1.        ]]\n",
      "(22, 20)\n",
      "10\n",
      "[[ 1.00117948 -0.12202657  0.07064838]\n",
      " [ 0.03540281  0.36603149  0.01676916]\n",
      " [ 0.          0.          1.        ]]\n",
      "(22, 20)\n",
      "11\n",
      "[[ 0.99844598 -0.06658802  0.06477653]\n",
      " [ 0.03507081  0.37256929  0.01636884]\n",
      " [ 0.          0.          1.        ]]\n",
      "(22, 20)\n",
      "12\n",
      "[[ 0.99806445 -0.05440961  0.05827583]\n",
      " [ 0.03478791  0.37836022  0.01598112]\n",
      " [ 0.          0.          1.        ]]\n",
      "(22, 20)\n",
      "13\n",
      "[[0.99536273 0.00230127 0.05419106]\n",
      " [0.03439867 0.38568164 0.01599595]\n",
      " [0.         0.         1.        ]]\n",
      "(22, 20)\n",
      "14\n",
      "[[0.99562229 0.00852843 0.04995099]\n",
      " [0.03439647 0.38628184 0.01596334]\n",
      " [0.         0.         1.        ]]\n",
      "(22, 20)\n",
      "15\n",
      "[[0.99424526 0.03681306 0.04645896]\n",
      " [0.03437353 0.38629989 0.01597991]\n",
      " [0.         0.         1.        ]]\n",
      "(22, 20)\n",
      "16\n",
      "[[ 0.99682444 -0.00206161  0.04169614]\n",
      " [ 0.03439793  0.38587052  0.01587361]\n",
      " [ 0.          0.          1.        ]]\n",
      "(22, 20)\n",
      "17\n",
      "[[0.9953771  0.02883552 0.03861511]\n",
      " [0.03412801 0.39074678 0.01591037]\n",
      " [0.         0.         1.        ]]\n",
      "(22, 20)\n",
      "18\n",
      "[[0.99637012 0.00876643 0.0349174 ]\n",
      " [0.03396531 0.39406377 0.0156521 ]\n",
      " [0.         0.         1.        ]]\n",
      "(22, 20)\n",
      "19\n",
      "[[0.9946202  0.04544246 0.033231  ]\n",
      " [0.03373548 0.39857333 0.01570397]\n",
      " [0.         0.         1.        ]]\n",
      "(22, 20)\n",
      "20\n",
      "[[0.99390453 0.06104078 0.03184496]\n",
      " [0.03369981 0.39923156 0.01561415]\n",
      " [0.         0.         1.        ]]\n",
      "(22, 20)\n",
      "21\n",
      "[[0.99421992 0.05613034 0.02970471]\n",
      " [0.03360362 0.40152739 0.01550288]\n",
      " [0.         0.         1.        ]]\n",
      "(22, 20)\n",
      "22\n",
      "[[0.99409522 0.06004087 0.03001194]\n",
      " [0.03358272 0.40187075 0.01564433]\n",
      " [0.         0.         1.        ]]\n",
      "(22, 20)\n",
      "23\n",
      "[[0.99594748 0.0255003  0.02951873]\n",
      " [0.03367315 0.39983294 0.01582225]\n",
      " [0.         0.         1.        ]]\n",
      "(22, 20)\n",
      "24\n",
      "[[0.99645207 0.02052445 0.02955623]\n",
      " [0.03368907 0.39951366 0.01595077]\n",
      " [0.         0.         1.        ]]\n",
      "(22, 20)\n",
      "25\n",
      "[[0.99657631 0.01833998 0.02772904]\n",
      " [0.03370232 0.39898115 0.01594278]\n",
      " [0.         0.         1.        ]]\n",
      "(22, 20)\n",
      "26\n",
      "[[0.9960813  0.02869649 0.02601953]\n",
      " [0.03367066 0.39965266 0.01579983]\n",
      " [0.         0.         1.        ]]\n",
      "(22, 20)\n",
      "27\n",
      "[[0.99586392 0.03269098 0.02515953]\n",
      " [0.03368955 0.39861101 0.01589913]\n",
      " [0.         0.         1.        ]]\n",
      "(22, 20)\n",
      "28\n",
      "[[0.99578925 0.03416653 0.02477204]\n",
      " [0.03365859 0.39898445 0.01600457]\n",
      " [0.         0.         1.        ]]\n",
      "(22, 20)\n",
      "29\n",
      "[[0.99570199 0.03638735 0.02487043]\n",
      " [0.0336634  0.39849933 0.01616916]\n",
      " [0.         0.         1.        ]]\n",
      "(22, 20)\n",
      "30\n",
      "[[0.99535537 0.04376397 0.02318674]\n",
      " [0.0336826  0.39856777 0.01610751]\n",
      " [0.         0.         1.        ]]\n",
      "(22, 20)\n",
      "31\n",
      "[[0.99507012 0.04722846 0.0222895 ]\n",
      " [0.03362662 0.39951905 0.01607089]\n",
      " [0.         0.         1.        ]]\n",
      "(22, 20)\n",
      "32\n",
      "[[0.99479597 0.05176669 0.02190957]\n",
      " [0.03352338 0.40096382 0.01622553]\n",
      " [0.         0.         1.        ]]\n",
      "(22, 20)\n",
      "33\n",
      "[[0.99479776 0.0506828  0.02121296]\n",
      " [0.03340474 0.4029626  0.01641722]\n",
      " [0.         0.         1.        ]]\n",
      "(22, 20)\n",
      "34\n",
      "[[0.99527425 0.03866256 0.02143428]\n",
      " [0.03340651 0.40229051 0.0166883 ]\n",
      " [0.         0.         1.        ]]\n",
      "(22, 20)\n",
      "35\n",
      "[[0.99557376 0.03353325 0.02139752]\n",
      " [0.03334231 0.40338867 0.01681435]\n",
      " [0.         0.         1.        ]]\n",
      "(22, 20)\n",
      "36\n",
      "[[0.99499741 0.04596499 0.0205473 ]\n",
      " [0.03326911 0.40460419 0.01685425]\n",
      " [0.         0.         1.        ]]\n",
      "(22, 20)\n",
      "37\n",
      "[[0.99570001 0.03290534 0.02076815]\n",
      " [0.03328779 0.40399441 0.01710944]\n",
      " [0.         0.         1.        ]]\n",
      "(22, 20)\n",
      "38\n",
      "[[0.99588725 0.02870097 0.02135575]\n",
      " [0.03331925 0.40301583 0.01732941]\n",
      " [0.         0.         1.        ]]\n",
      "(22, 20)\n",
      "39\n",
      "[[0.9953114  0.04044075 0.02053587]\n",
      " [0.03316408 0.40610934 0.01726622]\n",
      " [0.         0.         1.        ]]\n",
      "(22, 20)\n",
      "40\n",
      "[[0.9952691  0.03985377 0.02098565]\n",
      " [0.03300742 0.40905073 0.01760896]\n",
      " [0.         0.         1.        ]]\n",
      "(22, 20)\n",
      "41\n",
      "[[0.99525211 0.0407138  0.02117447]\n",
      " [0.0330221  0.40827508 0.01779066]\n",
      " [0.         0.         1.        ]]\n",
      "(22, 20)\n",
      "42\n",
      "[[0.99541398 0.03878735 0.0209395 ]\n",
      " [0.0329278  0.40974785 0.01781426]\n",
      " [0.         0.         1.        ]]\n"
     ]
    },
    {
     "ename": "KeyboardInterrupt",
     "evalue": "",
     "output_type": "error",
     "traceback": [
      "\u001b[1;31m---------------------------------------------------------------------------\u001b[0m",
      "\u001b[1;31mKeyboardInterrupt\u001b[0m                         Traceback (most recent call last)",
      "\u001b[1;32m<ipython-input-23-bc47840bf5ca>\u001b[0m in \u001b[0;36m<module>\u001b[1;34m\u001b[0m\n\u001b[0;32m     21\u001b[0m \u001b[1;33m\u001b[0m\u001b[0m\n\u001b[0;32m     22\u001b[0m     \u001b[0mp_matrix\u001b[0m \u001b[1;33m=\u001b[0m \u001b[0mDetermineCorrespondenceMatrix\u001b[0m\u001b[1;33m(\u001b[0m\u001b[0mnX\u001b[0m\u001b[1;33m,\u001b[0m \u001b[0mnY\u001b[0m\u001b[1;33m,\u001b[0m  \u001b[0mmove_data\u001b[0m\u001b[1;33m,\u001b[0m \u001b[0mfix_data\u001b[0m\u001b[1;33m,\u001b[0m \u001b[0mT\u001b[0m\u001b[1;33m,\u001b[0m \u001b[0mT_outlier\u001b[0m\u001b[1;33m,\u001b[0m \u001b[0malpha\u001b[0m\u001b[1;33m)\u001b[0m\u001b[1;33m\u001b[0m\u001b[1;33m\u001b[0m\u001b[0m\n\u001b[1;32m---> 23\u001b[1;33m     \u001b[0mp_matrix\u001b[0m \u001b[1;33m=\u001b[0m \u001b[0mNormalize_P\u001b[0m\u001b[1;33m(\u001b[0m\u001b[0mnX\u001b[0m\u001b[1;33m,\u001b[0m\u001b[0mnY\u001b[0m\u001b[1;33m,\u001b[0m\u001b[0mp_matrix\u001b[0m\u001b[1;33m)\u001b[0m\u001b[1;33m\u001b[0m\u001b[1;33m\u001b[0m\u001b[0m\n\u001b[0m\u001b[0;32m     24\u001b[0m \u001b[1;33m\u001b[0m\u001b[0m\n\u001b[0;32m     25\u001b[0m     \u001b[1;32mif\u001b[0m \u001b[1;33m(\u001b[0m \u001b[0mnumpy\u001b[0m\u001b[1;33m.\u001b[0m\u001b[0many\u001b[0m\u001b[1;33m(\u001b[0m\u001b[0mnumpy\u001b[0m\u001b[1;33m.\u001b[0m\u001b[0misnan\u001b[0m\u001b[1;33m(\u001b[0m\u001b[0mnumpy\u001b[0m\u001b[1;33m.\u001b[0m\u001b[0marray\u001b[0m\u001b[1;33m(\u001b[0m\u001b[0mp_matrix\u001b[0m\u001b[1;33m)\u001b[0m\u001b[1;33m)\u001b[0m\u001b[1;33m)\u001b[0m \u001b[1;33m==\u001b[0m \u001b[1;32mFalse\u001b[0m \u001b[1;33m)\u001b[0m\u001b[1;33m:\u001b[0m\u001b[1;33m\u001b[0m\u001b[1;33m\u001b[0m\u001b[0m\n",
      "\u001b[1;32m<ipython-input-11-b00139e5eb68>\u001b[0m in \u001b[0;36mNormalize_P\u001b[1;34m(nX, nY, p_matrix)\u001b[0m\n\u001b[0;32m     13\u001b[0m         \u001b[1;32mfor\u001b[0m \u001b[0mj\u001b[0m \u001b[1;32min\u001b[0m \u001b[0mrange\u001b[0m\u001b[1;33m(\u001b[0m\u001b[0mnY\u001b[0m\u001b[1;33m)\u001b[0m\u001b[1;33m:\u001b[0m\u001b[1;33m\u001b[0m\u001b[1;33m\u001b[0m\u001b[0m\n\u001b[0;32m     14\u001b[0m             \u001b[1;32mif\u001b[0m \u001b[1;33m(\u001b[0m\u001b[0mcolsum\u001b[0m\u001b[1;33m[\u001b[0m\u001b[0mj\u001b[0m\u001b[1;33m]\u001b[0m \u001b[1;33m>\u001b[0m \u001b[1;36m0.0\u001b[0m\u001b[1;33m)\u001b[0m\u001b[1;33m:\u001b[0m\u001b[1;33m\u001b[0m\u001b[1;33m\u001b[0m\u001b[0m\n\u001b[1;32m---> 15\u001b[1;33m                 \u001b[0mp_matrix\u001b[0m\u001b[1;33m[\u001b[0m\u001b[1;33m:\u001b[0m\u001b[1;33m,\u001b[0m\u001b[0mj\u001b[0m\u001b[1;33m]\u001b[0m \u001b[1;33m=\u001b[0m \u001b[0mp_matrix\u001b[0m\u001b[1;33m[\u001b[0m\u001b[1;33m:\u001b[0m\u001b[1;33m,\u001b[0m\u001b[0mj\u001b[0m\u001b[1;33m]\u001b[0m \u001b[1;33m/\u001b[0m \u001b[0mcolsum\u001b[0m\u001b[1;33m[\u001b[0m\u001b[0mj\u001b[0m\u001b[1;33m]\u001b[0m  \u001b[1;31m####Check shavad dimension[63,37]\u001b[0m\u001b[1;33m\u001b[0m\u001b[1;33m\u001b[0m\u001b[0m\n\u001b[0m\u001b[0;32m     16\u001b[0m         \u001b[1;31m# Initial Normalize on rows\u001b[0m\u001b[1;33m\u001b[0m\u001b[1;33m\u001b[0m\u001b[1;33m\u001b[0m\u001b[0m\n\u001b[0;32m     17\u001b[0m         \u001b[0mrowsum\u001b[0m \u001b[1;33m=\u001b[0m \u001b[0mnumpy\u001b[0m\u001b[1;33m.\u001b[0m\u001b[0msum\u001b[0m\u001b[1;33m(\u001b[0m\u001b[0mp_matrix\u001b[0m\u001b[1;33m[\u001b[0m\u001b[1;36m0\u001b[0m\u001b[1;33m:\u001b[0m\u001b[0mnX\u001b[0m\u001b[1;33m,\u001b[0m\u001b[1;33m:\u001b[0m\u001b[1;33m]\u001b[0m\u001b[1;33m,\u001b[0m\u001b[0maxis\u001b[0m\u001b[1;33m=\u001b[0m\u001b[1;36m1\u001b[0m\u001b[1;33m)\u001b[0m\u001b[1;33m\u001b[0m\u001b[1;33m\u001b[0m\u001b[0m\n",
      "\u001b[1;31mKeyboardInterrupt\u001b[0m: "
     ]
    }
   ],
   "source": [
    "## Set Temperatures for analysis\n",
    "start = time.time()\n",
    "distFeatPairs=Distance_Matrix (nX, nX, move_data,move_data)\n",
    "T_init = (numpy.max(distFeatPairs))**2\n",
    "distlarger0= distFeatPairs[distFeatPairs>0]\n",
    "T_final = (numpy.min(distlarger0))**2\n",
    "T_outlier = T_init\n",
    "T = T_init\n",
    "E_temp = []\n",
    "## Set initial affine\n",
    "affine = numpy.array(numpy.eye(d, dtype = float))\n",
    "\n",
    "counter = 0\n",
    "\n",
    "while T > T_final:\n",
    "    # print(T)\n",
    "    lambda2 = multiplier_lambda2*T\n",
    "    move_data_trans = numpy.transpose(numpy.c_[move_data,numpy.ones(nX)])\n",
    "    x_trans = numpy.transpose(numpy.matmul(affine,move_data_trans))\n",
    "    x_trans = x_trans[:,0:2]\n",
    "\n",
    "    p_matrix = DetermineCorrespondenceMatrix(nX, nY,  move_data, fix_data, T, T_outlier, alpha)\n",
    "    p_matrix = Normalize_P(nX,nY,p_matrix)\n",
    "    \n",
    "    if ( numpy.any(numpy.isnan(numpy.array(p_matrix))) == False ):\n",
    "        affine,E= DetermineOptimalTransformation(nX, nY, move_data, fix_data, p_matrix, lambda2)\n",
    "        E_temp.append([T,E])\n",
    "        counter+=1\n",
    "       #print(counter)\n",
    "       #print(affine)\n",
    "    else:\n",
    "        break\n",
    "    T_old = T\n",
    "    p_old = p_matrix\n",
    "    T = T* annealingRate\n",
    "\n",
    "end = time.time()\n",
    "#runtime in minutes\n",
    "runtime = (end - start)/60\n",
    "runtime = \"%.2f\"%runtime\n",
    "print(runtime)\n",
    "#numpy.savetxt((\"p_matrix_%s.csv\")%joint, p_matrix, delimiter=\",\")    \n",
    "#numpy.savetxt((\"affine_%s.csv\")%joint, affine, delimiter=\",\")\n",
    "numpy.savetxt((\"x_trans_%s.csv\")%joint, x_trans, delimiter=\",\")\n",
    "\n",
    "\n"
   ]
  },
  {
   "cell_type": "markdown",
   "metadata": {
    "id": "E7s2gitsyl5k"
   },
   "source": [
    "Calculate match rate"
   ]
  },
  {
   "cell_type": "code",
   "execution_count": 37,
   "metadata": {
    "colab": {
     "base_uri": "https://localhost:8080/"
    },
    "id": "EV2yy6sbylUN",
    "outputId": "6764c948-95f7-4d2c-8f45-5e78bf553a18"
   },
   "outputs": [
    {
     "name": "stdout",
     "output_type": "stream",
     "text": [
      "0.0\n"
     ]
    }
   ],
   "source": [
    "# matching rate for move set \n",
    "num_outliers_x = sum(p_matrix[0:nX,nY]>0.9) # number of outliers\n",
    "match_rate_move = 1-num_outliers_x/nX # matching reate over 90%\n",
    "match_rate_move = \"%.2f\"%match_rate_move\n",
    "\n",
    "# matching rate for fix set\n",
    "num_outliers_y = sum(p_matrix[nX,0:nY]>0.9) # number of outliers\n",
    "match_rate_fix = 1-num_outliers_y/nY # matching reate over 90%\n",
    "match_rate_fix = \"%.2f\"%match_rate_fix\n",
    "\n",
    "# ratio of sample sizes: fix/move\n",
    "ratio_fix_to_move = nY/nX\n",
    "ratio_fix_to_move = \"%.2f\"%ratio_fix_to_move"
   ]
  },
  {
   "cell_type": "code",
   "execution_count": null,
   "metadata": {},
   "outputs": [],
   "source": [
    "# Function for building the Evaluation Table\n",
    "\n",
    "from csv import writer\n",
    "def append_list_as_row(file_name, list_of_elem):\n",
    "    # Open file in append mode\n",
    "    with open(file_name, 'a+', newline='') as write_obj:\n",
    "        # Create a writer object from csv module\n",
    "        csv_writer = writer(write_obj)\n",
    "        # Add contents of list as last row in the csv file\n",
    "        csv_writer.writerow(list_of_elem)\n"
   ]
  },
  {
   "cell_type": "code",
   "execution_count": null,
   "metadata": {},
   "outputs": [],
   "source": [
    "append_list_as_row('Evaluation Table.csv',[joint, nY, nX, ratio_fix_to_move, match_rate_fix, match_rate_move, runtime])"
   ]
  },
  {
   "cell_type": "markdown",
   "metadata": {
    "id": "_0hLiWc60YmB"
   },
   "source": [
    "Plots"
   ]
  },
  {
   "cell_type": "code",
   "execution_count": 38,
   "metadata": {
    "id": "N_oYXVD0yYiv"
   },
   "outputs": [],
   "source": [
    "# Distance: DS_TO_US, Orientation: arch to 0 in meters\n",
    "original_fix  = pd.DataFrame(fix_data, columns = ['Distance','Orientation'])\n",
    "original_fix[\"category\"] = \"fix\"\n",
    "#move dataset: before transformation\n",
    "original_move = pd.DataFrame(move_data,columns = [\"Distance\",\"Orientation\"])\n",
    "original_move[\"category\"] = \"move\"\n",
    "\n",
    "\n",
    "#move dataset: after transformation\n",
    "adjust_move = pd.DataFrame(x_trans,columns = [\"Distance\",\"Orientation\"])\n",
    "adjust_move[\"category\"] = \"adjust_move\"\n",
    "\n",
    "\n",
    "\n",
    "# normalize the x and y axis\n",
    "dist_min = original_fix[\"Distance\"].min()\n",
    "dist_max = original_fix[\"Distance\"].max()\n",
    "orien_min = original_fix[\"Orientation\"].min()\n",
    "orien_max = original_fix[\"Orientation\"].max()\n",
    "range_orientation = orien_max - orien_min\n",
    "range_distance = dist_max - dist_min\n",
    "\n",
    "original_fix[\"Orientation\"] = (original_fix[\"Orientation\"]- orien_min) / range_orientation\n",
    "original_fix[\"Distance\"] = (original_fix[\"Distance\"] - dist_min) / range_distance\n",
    "original_move[\"Orientation\"] = (original_move[\"Orientation\"]-orien_min) / range_orientation\n",
    "original_move[\"Distance\"] = (original_move[\"Distance\"] - dist_min) / range_distance\n",
    "adjust_move[\"Orientation\"] = (adjust_move[\"Orientation\"] - orien_min) / range_orientation\n",
    "adjust_move[\"Distance\"] = (adjust_move[\"Distance\"] - dist_min) / range_distance\n",
    "\n",
    "original_data = pd.concat([original_fix,original_move],axis = 0)\n",
    "adjust_data = pd.concat([original_fix,adjust_move],axis = 0)\n"
   ]
  },
  {
   "cell_type": "code",
   "execution_count": 43,
   "metadata": {
    "colab": {
     "base_uri": "https://localhost:8080/",
     "height": 542
    },
    "id": "eSEFe0gsyrsN",
    "outputId": "369bd647-49d7-4d45-80b3-4449077da553"
   },
   "outputs": [
    {
     "ename": "ModuleNotFoundError",
     "evalue": "No module named 'plotly'",
     "output_type": "error",
     "traceback": [
      "\u001b[1;31m---------------------------------------------------------------------------\u001b[0m",
      "\u001b[1;31mModuleNotFoundError\u001b[0m                       Traceback (most recent call last)",
      "\u001b[1;32m<ipython-input-43-793db2a0b69d>\u001b[0m in \u001b[0;36m<module>\u001b[1;34m\u001b[0m\n\u001b[1;32m----> 1\u001b[1;33m \u001b[1;32mimport\u001b[0m \u001b[0mplotly\u001b[0m\u001b[1;33m.\u001b[0m\u001b[0mexpress\u001b[0m \u001b[1;32mas\u001b[0m \u001b[0mpx\u001b[0m\u001b[1;33m\u001b[0m\u001b[1;33m\u001b[0m\u001b[0m\n\u001b[0m\u001b[0;32m      2\u001b[0m \u001b[0moriginal_plot\u001b[0m \u001b[1;33m=\u001b[0m \u001b[0mpx\u001b[0m\u001b[1;33m.\u001b[0m\u001b[0mscatter\u001b[0m\u001b[1;33m(\u001b[0m\u001b[0moriginal_data\u001b[0m\u001b[1;33m,\u001b[0m\u001b[0mx\u001b[0m\u001b[1;33m=\u001b[0m\u001b[1;34m\"Distance\"\u001b[0m\u001b[1;33m,\u001b[0m\u001b[0my\u001b[0m\u001b[1;33m=\u001b[0m\u001b[1;34m\"Orientation\"\u001b[0m\u001b[1;33m,\u001b[0m\u001b[0mcolor\u001b[0m \u001b[1;33m=\u001b[0m\u001b[1;34m\"category\"\u001b[0m\u001b[1;33m)\u001b[0m\u001b[1;33m\u001b[0m\u001b[1;33m\u001b[0m\u001b[0m\n\u001b[0;32m      3\u001b[0m \u001b[0moriginal_plot\u001b[0m\u001b[1;33m.\u001b[0m\u001b[0mshow\u001b[0m\u001b[1;33m(\u001b[0m\u001b[1;33m)\u001b[0m\u001b[1;33m\u001b[0m\u001b[1;33m\u001b[0m\u001b[0m\n",
      "\u001b[1;31mModuleNotFoundError\u001b[0m: No module named 'plotly'"
     ]
    }
   ],
   "source": [
    "#import plotly at local anaconda first! \n",
    "# check website for instructions: https://stackoverflow.com/questions/36959782/plotly-in-jupyter-issue\n",
    "\n",
    "import plotly.express as px\n",
    "original_plot = px.scatter(original_data,x=\"Distance\",y=\"Orientation\",color =\"category\")\n",
    "original_plot.write_image(file=('before_normalized_%s.png')%(joint))\n",
    "original_plot.show()\n",
    "\n"
   ]
  },
  {
   "cell_type": "code",
   "execution_count": 42,
   "metadata": {
    "colab": {
     "base_uri": "https://localhost:8080/",
     "height": 542
    },
    "id": "nJSwU7AayyKh",
    "outputId": "fe47413b-65e5-44cd-fd8b-95e24568fcb1"
   },
   "outputs": [
    {
     "ename": "NameError",
     "evalue": "name 'px' is not defined",
     "output_type": "error",
     "traceback": [
      "\u001b[1;31m---------------------------------------------------------------------------\u001b[0m",
      "\u001b[1;31mNameError\u001b[0m                                 Traceback (most recent call last)",
      "\u001b[1;32m<ipython-input-42-d761665df476>\u001b[0m in \u001b[0;36m<module>\u001b[1;34m\u001b[0m\n\u001b[1;32m----> 1\u001b[1;33m \u001b[0madjust_plot\u001b[0m \u001b[1;33m=\u001b[0m \u001b[0mpx\u001b[0m\u001b[1;33m.\u001b[0m\u001b[0mscatter\u001b[0m\u001b[1;33m(\u001b[0m\u001b[0madjust_data\u001b[0m\u001b[1;33m,\u001b[0m\u001b[0mx\u001b[0m\u001b[1;33m=\u001b[0m\u001b[1;34m\"Distance\"\u001b[0m\u001b[1;33m,\u001b[0m\u001b[0my\u001b[0m\u001b[1;33m=\u001b[0m\u001b[1;34m\"Orientation\"\u001b[0m\u001b[1;33m,\u001b[0m\u001b[0mcolor\u001b[0m \u001b[1;33m=\u001b[0m\u001b[1;34m\"category\"\u001b[0m\u001b[1;33m)\u001b[0m\u001b[1;33m\u001b[0m\u001b[1;33m\u001b[0m\u001b[0m\n\u001b[0m\u001b[0;32m      2\u001b[0m \u001b[0madjust_plot\u001b[0m\u001b[1;33m.\u001b[0m\u001b[0mshow\u001b[0m\u001b[1;33m(\u001b[0m\u001b[1;33m)\u001b[0m\u001b[1;33m\u001b[0m\u001b[1;33m\u001b[0m\u001b[0m\n",
      "\u001b[1;31mNameError\u001b[0m: name 'px' is not defined"
     ]
    }
   ],
   "source": [
    "adjust_plot = px.scatter(adjust_data,x=\"Distance\",y=\"Orientation\",color =\"category\")\n",
    "adjust_plot.write_image(file=('after_normalized_%s.png')%(joint))\n",
    "adjust_plot.show()\n"
   ]
  }
 ],
 "metadata": {
  "colab": {
   "collapsed_sections": [],
   "name": "Copy of Clean_v1_Lin Guo.ipynb",
   "provenance": []
  },
  "interpreter": {
   "hash": "12ae62e30e3fb74037a089e3ff307f32b47113d325c1c89afa64df7f497586c3"
  },
  "kernelspec": {
   "display_name": "Python 3",
   "language": "python",
   "name": "python3"
  },
  "language_info": {
   "codemirror_mode": {
    "name": "ipython",
    "version": 3
   },
   "file_extension": ".py",
   "mimetype": "text/x-python",
   "name": "python",
   "nbconvert_exporter": "python",
   "pygments_lexer": "ipython3",
   "version": "3.8.8"
  }
 },
 "nbformat": 4,
 "nbformat_minor": 4
}
