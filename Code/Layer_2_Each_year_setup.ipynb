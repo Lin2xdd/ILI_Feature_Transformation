{
  "cells": [
    {
      "cell_type": "markdown",
      "id": "1f313e3c",
      "metadata": {
        "id": "1f313e3c"
      },
      "source": [
        "# Data Processing\n",
        " - Add a new column of Orientation_trans\n",
        " - Generate a full joint list that contains both years of ili"
      ]
    },
    {
      "cell_type": "code",
      "execution_count": null,
      "id": "db4d9955-26aa-4249-ac49-0d2425e21d43",
      "metadata": {
        "id": "db4d9955-26aa-4249-ac49-0d2425e21d43"
      },
      "outputs": [],
      "source": [
        "# convert the Orientation from degrees to length of distance to startpoint/ arc length\n",
        "data[\"Orientation_trans\"]=math.pi*pipe_diam*(data[\"Orientation\"]/360)\n",
        "\n",
        "\n",
        "full_joint_list = []\n",
        "# Filter Criteria: must have both years of inspection\n",
        "for joint in data[\"Joints\"]:\n",
        "    if(any(data.loc[data[\"Joints\"]==joint,\"iliyr\"] ==fix_iliyr) & any(data.loc[data[\"Joints\"]==joint,\"iliyr\"] ==move_iliyr)):\n",
        "        if joint in full_joint_list:\n",
        "            continue\n",
        "        full_joint_list = numpy.append(full_joint_list, joint)\n",
        "\n",
        "full_joint_list = full_joint_list.astype(\"int\")\n",
        "  # keep two columns: distance to us weld and orientation(m)\n",
        "\n",
        "\n"
      ]
    },
    {
      "cell_type": "code",
      "execution_count": null,
      "id": "0afebee2-212f-4394-8f8b-e71a7e368f30",
      "metadata": {
        "id": "0afebee2-212f-4394-8f8b-e71a7e368f30"
      },
      "outputs": [],
      "source": [
        "# print the list\n",
        "print(full_joint_list)"
      ]
    },
    {
      "cell_type": "markdown",
      "id": "14c6afd6",
      "metadata": {
        "id": "14c6afd6"
      },
      "source": [
        "# Prepare the Evaluation Table"
      ]
    },
    {
      "cell_type": "code",
      "execution_count": null,
      "id": "34e09067",
      "metadata": {
        "id": "34e09067"
      },
      "outputs": [],
      "source": [
        "eval_table = [\"Joint\", \"Fix Size\",\"Move Size\",\"Ratio(Fix/Move)\",\"Match Rate(Fix)\", \"Match Rate(Move)\",\"Run Time\"]\n",
        "\n",
        "with open('Evaluation Table_%s.csv'%move_iliyr,'a') as f:\n",
        "    writer = csv.writer(f)\n",
        "    writer.writerow(eval_table)"
      ]
    },
    {
      "cell_type": "markdown",
      "id": "4f2742b3",
      "metadata": {
        "id": "4f2742b3"
      },
      "source": [
        "# Install the Engine for Exporting Images from the Main Script"
      ]
    },
    {
      "cell_type": "code",
      "execution_count": null,
      "id": "4b088935",
      "metadata": {
        "id": "4b088935"
      },
      "outputs": [],
      "source": [
        "# required for exporting the images created under plotly!\n",
        "!pip install kaleido"
      ]
    },
    {
      "cell_type": "markdown",
      "id": "74af7dfb",
      "metadata": {
        "id": "74af7dfb"
      },
      "source": [
        "# Prepare the data and call the Main Script\n",
        "\n",
        "- For each joint, convert fix data and move data to lists\n",
        "- Call the main script / 3rd layer of the program"
      ]
    },
    {
      "cell_type": "code",
      "execution_count": null,
      "id": "718d59a6-70e9-49be-826c-14a3b3de3051",
      "metadata": {
        "id": "718d59a6-70e9-49be-826c-14a3b3de3051"
      },
      "outputs": [],
      "source": [
        "# record the start time of the whole project\n",
        "start_time_project = time.time()\n",
        "\n",
        "counter = 1\n",
        "\n",
        "# loop over the joint number and execute the main script\n",
        "for joint in full_joint_list[counter:]:\n",
        "    print(joint)\n",
        "    # fix data of a single joint: two columns of DS_TO_US and Orientation\n",
        "    fix_data = data.loc[(data[\"Joints\"]==joint)&(data[\"iliyr\"]==fix_iliyr), [\"DS_TO_US\",\"Orientation_trans\"]] # 240\n",
        "    # current Copy_of_Clean_v1_Lin_Guo.ipynb requires list input of the datset\n",
        "    fix_data = fix_data.values.tolist()\n",
        "    # move data of a single joint: two columns of DS_TO_US and Orientation\n",
        "    move_data = data.loc[(data[\"Joints\"]==joint)&(data[\"iliyr\"]==move_iliyr), [\"DS_TO_US\",\"Orientation_trans\"]] # 203\n",
        "    # move data must have at leats two features for the algorithm to run successfully \n",
        "    if move_data.shape[0]<=2:\n",
        "        continue\n",
        "    # current Copy_of_Clean_v1_Lin_Guo.ipynb requires list input of the datset\n",
        "    move_data = move_data.values.tolist()\n",
        "    \n",
        "    # for the datasets run the main execution script\n",
        "    try:\n",
        "        %run Copy_of_Clean_v1_Lin_Guo.ipynb\n",
        "    \n",
        "    except Exception as error_msg:\n",
        "        # record the error message\n",
        "        with open('Evaluation Table_%s.csv'%move_iliyr,'a') as f:\n",
        "            writer = csv.writer(f)\n",
        "            writer.writerow([joint, error_msg])\n",
        "        # skip to the next loop and proceed on to the next joint\n",
        "        pass\n",
        "    try:\n",
        "        x_trans = pd.read_csv(\"x_trans_%s.csv\"%joint, header=None)\n",
        "        #update the merged list and format the output'\n",
        "        data.loc[(data[\"Joints\"]==joint)&(data[\"iliyr\"]==move_iliyr),\"DS_TO_US_trans\"]=x_trans.iloc[:,0].values\n",
        "        data.loc[(data[\"Joints\"]==joint)&(data[\"iliyr\"]==fix_iliyr),\"DS_TO_US_trans\"]=data.loc[(data[\"Joints\"]==joint)&(data[\"iliyr\"]==fix_iliyr),\"DS_TO_US\"]\n",
        "    # if put the except behind x_trans, then chances are there's no update for some joints, and then there will be mis-alignment. \n",
        "    except:\n",
        "        pass\n",
        "    # record how many joints have been tested\n",
        "    counter += 1\n",
        "\n",
        "end_time_project = time.time()\n"
      ]
    },
    {
      "cell_type": "code",
      "execution_count": null,
      "id": "423e0cb3",
      "metadata": {
        "id": "423e0cb3"
      },
      "outputs": [],
      "source": [
        "#convert the runtime for the whole project to minutes\n",
        "runtime_project = (end_time_project-start_time_project)/60\n",
        "# print the runtime in 2 digits\n",
        "runtime_project = \"%.2f\"%runtime_project\n",
        "\n",
        "# the runtime for each iliyr\n",
        "print(\"The runtime for the whole project is \"+runtime_project)\n",
        "print(\"The total number of joints under testing is %s\"%counter)"
      ]
    }
  ],
  "metadata": {
    "kernelspec": {
      "display_name": "Python 3",
      "language": "python",
      "name": "python3"
    },
    "language_info": {
      "codemirror_mode": {
        "name": "ipython",
        "version": 3
      },
      "file_extension": ".py",
      "mimetype": "text/x-python",
      "name": "python",
      "nbconvert_exporter": "python",
      "pygments_lexer": "ipython3",
      "version": "3.8.8"
    },
    "colab": {
      "provenance": [],
      "collapsed_sections": []
    }
  },
  "nbformat": 4,
  "nbformat_minor": 5
}