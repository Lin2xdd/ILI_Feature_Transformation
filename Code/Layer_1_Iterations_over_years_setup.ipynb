{
  "cells": [
    {
      "cell_type": "code",
      "source": [
        "import csv\n",
        "#import os\n",
        "import numpy\n",
        "import math\n",
        "import xlwt\n",
        "# import xlsxwriter\n",
        "import pandas as pd\n",
        "from numpy.linalg import inv\n",
        "import time\n",
        "import matplotlib.pyplot as plt"
      ],
      "metadata": {
        "id": "ZvsbpAPBBLRx"
      },
      "id": "ZvsbpAPBBLRx",
      "execution_count": null,
      "outputs": []
    },
    {
      "cell_type": "markdown",
      "source": [
        "# Step 1: Read in the raw dataset, set parameters and generate the move year list"
      ],
      "metadata": {
        "id": "zs31n545BOwY"
      },
      "id": "zs31n545BOwY"
    },
    {
      "cell_type": "code",
      "execution_count": null,
      "id": "6539ec57",
      "metadata": {
        "id": "6539ec57"
      },
      "outputs": [],
      "source": [
        "data_name = \"Test_multiple year ILI\"\n",
        "# For now the dataset is a merged liset of all the joints and years; read from the local file\n",
        "data = pd.read_csv(data_name+\".csv\")\n",
        "# inline inspection year of the fix dataset\n",
        "fix_iliyr = 2022\n",
        "# full list of inline inspection year of the move dataset\n",
        "move_iliyr_list = data.iliyr.unique()[data.iliyr.unique()!=fix_iliyr]\n",
        "# pipeline diameters in meters\n",
        "pipe_diam = 0.32385\n"
      ]
    },
    {
      "cell_type": "markdown",
      "source": [
        "# Step 2: Within each move year, call and run the 2nd layer of the program \n",
        "\n",
        "(To generate joint list for the move year, and clean the data)"
      ],
      "metadata": {
        "id": "rD2av-WoBhEY"
      },
      "id": "rD2av-WoBhEY"
    },
    {
      "cell_type": "code",
      "execution_count": null,
      "id": "af8ab69a",
      "metadata": {
        "id": "af8ab69a"
      },
      "outputs": [],
      "source": [
        "for move_iliyr in move_iliyr_list:\n",
        "    %run Each_year.ipynb\n",
        "data.to_csv(data_name+\".csv\", index = False)"
      ]
    }
  ],
  "metadata": {
    "kernelspec": {
      "display_name": "Python 3",
      "language": "python",
      "name": "python3"
    },
    "language_info": {
      "codemirror_mode": {
        "name": "ipython",
        "version": 3
      },
      "file_extension": ".py",
      "mimetype": "text/x-python",
      "name": "python",
      "nbconvert_exporter": "python",
      "pygments_lexer": "ipython3",
      "version": "3.8.8"
    },
    "colab": {
      "provenance": [],
      "collapsed_sections": []
    }
  },
  "nbformat": 4,
  "nbformat_minor": 5
}